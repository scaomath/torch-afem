{
 "cells": [
  {
   "cell_type": "code",
   "execution_count": 1,
   "metadata": {},
   "outputs": [],
   "source": [
    "import torch\n",
    "import torch.nn as nn\n",
    "from fem.data import *\n",
    "from fem.Poisson import Poisson\n",
    "from fem.grf import GRF2d\n",
    "import numpy as np\n",
    "device = torch.device(\"cpu\")\n"
   ]
  },
  {
   "cell_type": "code",
   "execution_count": 2,
   "metadata": {},
   "outputs": [],
   "source": [
    "h = 1/64\n",
    "n = int(1/h)\n",
    "poisson = Poisson(h=h, quadrature_order=1, dtype=torch.float)\n",
    "pde = GRF2d(n*4, alpha=2, tau=10, device=device, double=False)\n"
   ]
  },
  {
   "cell_type": "code",
   "execution_count": 3,
   "metadata": {},
   "outputs": [],
   "source": [
    "poisson._assemble(pde)\n",
    "poisson.solve()\n",
    "uh_dir = poisson.get_u().cpu().numpy()\n",
    "\n",
    "uI = pde.solution(pde.source.squeeze(1)).unsqueeze(1)\n",
    "uI = F.interpolate(uI, size=(n+1, n+1),\n",
    "                  mode='bilinear',\n",
    "                  align_corners=True)\n",
    "uI = uI.view(-1).numpy()"
   ]
  },
  {
   "cell_type": "code",
   "execution_count": 5,
   "metadata": {},
   "outputs": [
    {
     "name": "stdout",
     "output_type": "stream",
     "text": [
      "\n",
      "1-th iter\n",
      "energy: \t 0.0000e+00 \n",
      "L2 error: \t 3.0084e-03 \n",
      "Linf error: \t 0.0083640 \n"
     ]
    }
   ],
   "source": [
    "optimizer = torch.optim.LBFGS(poisson.parameters(), lr=1)\n",
    "num_iter = 1\n",
    "energies = []\n",
    "# re-init\n",
    "poisson = Poisson(h=h, quadrature_order=1, dtype=torch.float)\n",
    "poisson._assemble(pde)\n",
    "b = poisson.b_int\n",
    "\n",
    "for k in range(num_iter):\n",
    "    # flux = poisson.forward(poisson.u)\n",
    "\n",
    "    def closure():\n",
    "        optimizer.zero_grad()\n",
    "        loss = poisson.energy(poisson.u, b)\n",
    "        loss.backward(retain_graph=True)\n",
    "        return loss\n",
    "\n",
    "    optimizer.step(closure)\n",
    "\n",
    "    with torch.no_grad():\n",
    "        loss_val = poisson.energy(poisson.u, b)\n",
    "        print(f\"\\n{k+1}-th iter\")\n",
    "        print(f\"energy: \\t {loss_val.item():.4e} \")\n",
    "        energies.append(loss_val)\n",
    "        uh = poisson.get_u().cpu().numpy()\n",
    "        errL2 = np.linalg.norm(uh_dir - uh) * h\n",
    "        errLinf = np.abs(uh_dir - uh).max()\n",
    "        print(f\"L2 error: \\t {errL2:.4e} \")\n",
    "        print(f\"Linf error: \\t {errLinf:.7f} \")\n"
   ]
  }
 ],
 "metadata": {
  "kernelspec": {
   "display_name": "Python 3.10.8 64-bit",
   "language": "python",
   "name": "python3"
  },
  "language_info": {
   "codemirror_mode": {
    "name": "ipython",
    "version": 3
   },
   "file_extension": ".py",
   "mimetype": "text/x-python",
   "name": "python",
   "nbconvert_exporter": "python",
   "pygments_lexer": "ipython3",
   "version": "3.10.8"
  },
  "orig_nbformat": 4,
  "vscode": {
   "interpreter": {
    "hash": "aee8b7b246df8f9039afb4144a1f6fd8d2ca17a180786b69acc140d282b71a49"
   }
  }
 },
 "nbformat": 4,
 "nbformat_minor": 2
}
